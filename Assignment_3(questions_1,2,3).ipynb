{
  "nbformat": 4,
  "nbformat_minor": 0,
  "metadata": {
    "colab": {
      "name": "Assignment_3(questions 1,2,3).ipynb",
      "provenance": [],
      "collapsed_sections": []
    },
    "kernelspec": {
      "name": "python3",
      "display_name": "Python 3"
    }
  },
  "cells": [
    {
      "cell_type": "markdown",
      "metadata": {
        "id": "23aWtUiQhXNK",
        "colab_type": "text"
      },
      "source": [
        "$$\n",
        "\\textbf{Question 1:}\n",
        "\\\\Consider\\;a\\;network\\;with\\;single\\;hidden\\;layer\\;with\\;tanh\\;activation\n",
        "\\\\Let\\;the\\;activation\\;of\\;output\\;layer\\;be\\;A()\n",
        "\\\\tanh(a)=\\frac{e^{a}-e^{-a}}{e^{a}+e^{a}}\n",
        "\\\\Error\\;function(E)=\\frac{1}{2}.\\sum_{i=1}^{o}(\\tilde y_{i}-A(o_{i}))^{2}\n",
        "\\\\Lets\\;calculate\\;the\\;derivative\\;of\\;E\\;w.r.t\\;weight\\;w_{ij}\\;the\\;weight\\;connecting\\;i^{th}\\;output\\;and\\;j^{th}\\;hidden\\;neuron.\n",
        "\\\\For\\;a\\;Stationary\\;point\\;of\\;function(f):\\frac{\\partial E}{\\partial x}=0\n",
        "\\\\\\frac{\\partial E}{\\partial w_{ij}}=\\frac{\\partial}{\\partial w_{ij}}(\\frac{1}{2}.\\sum_{i=1}^{o}(\\tilde y_{i}-A(o_{i}))^{2})\n",
        "\\\\\\frac{\\partial E}{\\partial w_{ij}}=-(\\tilde y-A(o_{i})).A^{'}(o_{i}).\\frac{\\partial o_{i}}{\\partial w_{ij}}\n",
        "\\\\=-(\\tilde y-A(o_{i})).A^{'}(o_{i}).h_{j}\n",
        "\\\\Hidden\\;layer\\;activations(H)=tanh(W1.X)\n",
        "\\\\At\\;weight\\;space\\;origin\\;Hidden\\;layer\\;activations(H)=tanh(0.X)=tanh(0)=0\n",
        "\\\\\\implies h_{j}=0\\;for\\;all\\;j=0,1,..,h\n",
        "\\\\\\implies \\frac{\\partial E}{\\partial w_{ij}}=0\n",
        "\\\\\\implies Every\\;weight\\;between\\;output\\;layer\\;and\\;hidden\\;layer\\;is\\;stationary\\;point\\;\n",
        "\\\\if\\;h_{j}=0\\;no\\;gradients\\;are\\;passed\\;to\\;layers\\;before\\;hidden\\;layers\n",
        "\\\\\\implies\\;Partial\\;derivatives\\;of\\;Error\\;w.r.t\\;all\\;the\\;other\\;weights\\;are\\;zero\\;at\\;origin\\;in\\;weight\\;space\n",
        "\\\\\\therefore The\\;origin\\;in\\;the\\;weight\\;space\\;is\\;a\\;stationary\\;point\n",
        "\\\\\\blacksquare\n",
        "$$"
      ]
    },
    {
      "cell_type": "markdown",
      "metadata": {
        "id": "XXyRc85hQXdC",
        "colab_type": "text"
      },
      "source": [
        "$$\n",
        "\\textbf{Question 2(i):}\n",
        "\\\\ Given\\;error\\;function\\;E=\\frac{1}{2}\\lambda_{1}w_{1}^{2}+\\frac{1}{2}\\lambda_{2}w_{2}^{2}.\n",
        "\\\\\\implies\\;\\frac{\\partial E}{\\partial w_{1}}=\\lambda_{1}.w_{1},\\frac{\\partial E}{\\partial w_{2}}=\\lambda_{2}.w_{2}\n",
        "\\\\\\implies\\frac{\\partial E}{\\partial w_{1}.\\partial w_{2}}=0\n",
        "\\\\\\implies \\frac{\\partial^{2} E}{\\partial ^{2} w_{1}}=\\lambda_{1}\n",
        "\\\\\\implies \\frac{\\partial^{2} E}{\\partial ^{2} w_{2}}=\\lambda_{2}\n",
        "\\\\\\implies Consider\\;Hessian\\;H=\\begin{bmatrix} \\lambda_{1}&0\\\\0&\\lambda_{2}\n",
        "\\end{bmatrix}\n",
        "\\\\Consider\\;det(sI-H)=0\\implies(s-\\lambda_{1}).(s-\\lambda_{2})=0\n",
        "\\\\\\implies Hence\\;\\lambda_{1}\\;and\\;\\lambda_{2}\\;are\\;the\\;eigen\\;values\\;of\\;Hessian\\;matrix.\n",
        "\\\\\\blacksquare\n",
        "$$\n"
      ]
    },
    {
      "cell_type": "markdown",
      "metadata": {
        "id": "EOThln0lWTRN",
        "colab_type": "text"
      },
      "source": [
        "$$\n",
        "Importing\\;neccessary\\;libraries\n",
        "$$"
      ]
    },
    {
      "cell_type": "code",
      "metadata": {
        "id": "bgfZJRRXcRiD",
        "colab_type": "code",
        "colab": {}
      },
      "source": [
        "import numpy as np\n",
        "import pandas as pd\n",
        "import csv \n",
        "import os\n",
        "import torch\n",
        "import torch.nn as nn\n",
        "import torch.nn.functional as F\n",
        "from torch import optim\n",
        "from torch.autograd import Variable\n",
        "from torch.utils.data import DataLoader\n",
        "from google.colab import files\n",
        "from mpl_toolkits.mplot3d import Axes3D  \n",
        "import matplotlib.pyplot as plt"
      ],
      "execution_count": 0,
      "outputs": []
    },
    {
      "cell_type": "markdown",
      "metadata": {
        "id": "TwLvClOWcbIa",
        "colab_type": "text"
      },
      "source": [
        "$$\n",
        "Plot\\;of\\;error\\;function(\\lambda_{2}:\\lambda_{1}=10:1):\n",
        "$$"
      ]
    },
    {
      "cell_type": "code",
      "metadata": {
        "id": "jOj_spiOcaL9",
        "colab_type": "code",
        "outputId": "50724719-ed8a-4b02-a9b4-6a333568e888",
        "colab": {
          "base_uri": "https://localhost:8080/",
          "height": 266
        }
      },
      "source": [
        "def fun(x, y):\n",
        "    return 0.5*x**2 + 5*y**2\n",
        "\n",
        "print(\"Plot of error function:\")\n",
        "fig = plt.figure()\n",
        "ax = fig.add_subplot(111, projection='3d')\n",
        "x = y = np.arange(-3.0, 3.0, 0.05)\n",
        "X, Y = np.meshgrid(x, y)\n",
        "zs = np.array(fun(np.ravel(X), np.ravel(Y)))\n",
        "Z = zs.reshape(X.shape)\n",
        "\n",
        "ax.plot_surface(X, Y, Z)\n",
        "\n",
        "ax.set_xlabel('w1')\n",
        "ax.set_ylabel('w2')\n",
        "ax.set_zlabel('Error')\n",
        "plt.show()\n"
      ],
      "execution_count": 0,
      "outputs": [
        {
          "output_type": "stream",
          "text": [
            "Plot of error function:\n"
          ],
          "name": "stdout"
        },
        {
          "output_type": "display_data",
          "data": {
            "image/png": "[encoded data removed]",
            "text/plain": [
              "<Figure size 432x288 with 1 Axes>"
            ]
          },
          "metadata": {
            "tags": []
          }
        }
      ]
    },
    {
      "cell_type": "markdown",
      "metadata": {
        "id": "WlfMJaYnPaEB",
        "colab_type": "text"
      },
      "source": [
        "$$\n",
        "Function\\;for\\;performing\\;gradient\\;descent\n",
        "$$"
      ]
    },
    {
      "cell_type": "code",
      "metadata": {
        "id": "D0oRCExFbmRV",
        "colab_type": "code",
        "colab": {}
      },
      "source": [
        "def train(w1,w2,l,epochs,lr):\n",
        "  for i in range(epochs):\n",
        "    print(\"epoch %d :error %f\"%(i+1,0.5*l*w1**2+5*l*w2**2))\n",
        "    w1-=lr*l*w1\n",
        "    w2-=lr*10*l*w2"
      ],
      "execution_count": 0,
      "outputs": []
    },
    {
      "cell_type": "markdown",
      "metadata": {
        "id": "SIojcxLOuB8j",
        "colab_type": "text"
      },
      "source": [
        "$$\n",
        "Applying\\;gradient\\;descent\\;on\\;E\\;with\\;different\\;learning\\;rates.\n",
        "$$"
      ]
    },
    {
      "cell_type": "code",
      "metadata": {
        "id": "kNfVg1TIoKE1",
        "colab_type": "code",
        "colab": {}
      },
      "source": [
        "def learning_rate(w1,w2,l1,r):\n",
        "  return 2*(w1**2+(r**2)*w2**2)/(l1*(w1**2+(r**3)*(w2**2)))"
      ],
      "execution_count": 0,
      "outputs": []
    },
    {
      "cell_type": "code",
      "metadata": {
        "id": "JIDmNJnoX2qB",
        "colab_type": "code",
        "outputId": "ebe257f5-5862-4589-94ed-f85327b83f72",
        "colab": {
          "base_uri": "https://localhost:8080/",
          "height": 1000
        }
      },
      "source": [
        "l=1\n",
        "epochs=25\n",
        "epsilon=0.01\n",
        "w1=np.random.uniform(0,1)\n",
        "w2=np.random.uniform(0,1)\n",
        "print(\"Maximum learning rate for convergence %f\"%learning_rate(w1,w2,1,10))\n",
        "lr1=learning_rate(w1,w2,1,10)-epsilon*2\n",
        "print(\"Initial weights(w1,w2) %f %f:\"%(w1,w2))\n",
        "print(\"learning_rate= %f\"%(lr1))\n",
        "train(w1,w2,l,epochs,lr1)\n",
        "print(\"\\n\")\n",
        "lr2=learning_rate(w1,w2,1,10)+epsilon\n",
        "print(\"learning_rate=%f\"%(lr2))\n",
        "train(w1,w2,l,epochs,lr2)"
      ],
      "execution_count": 0,
      "outputs": [
        {
          "output_type": "stream",
          "text": [
            "Maximum learning rate for convergence 0.200096\n",
            "Initial weights(w1,w2) 0.169902 0.733942:\n",
            "learning_rate= 0.180096\n",
            "epoch 1 :error 2.707789\n",
            "epoch 2 :error 1.737609\n",
            "epoch 3 :error 1.115051\n",
            "epoch 4 :error 0.715555\n",
            "epoch 5 :error 0.459195\n",
            "epoch 6 :error 0.294684\n",
            "epoch 7 :error 0.189114\n",
            "epoch 8 :error 0.121366\n",
            "epoch 9 :error 0.077889\n",
            "epoch 10 :error 0.049988\n",
            "epoch 11 :error 0.032082\n",
            "epoch 12 :error 0.020590\n",
            "epoch 13 :error 0.013215\n",
            "epoch 14 :error 0.008482\n",
            "epoch 15 :error 0.005444\n",
            "epoch 16 :error 0.003494\n",
            "epoch 17 :error 0.002243\n",
            "epoch 18 :error 0.001440\n",
            "epoch 19 :error 0.000924\n",
            "epoch 20 :error 0.000593\n",
            "epoch 21 :error 0.000381\n",
            "epoch 22 :error 0.000244\n",
            "epoch 23 :error 0.000157\n",
            "epoch 24 :error 0.000101\n",
            "epoch 25 :error 0.000065\n",
            "\n",
            "\n",
            "learning_rate=0.210096\n",
            "epoch 1 :error 2.707789\n",
            "epoch 2 :error 3.273684\n",
            "epoch 3 :error 3.962810\n",
            "epoch 4 :error 4.800108\n",
            "epoch 5 :error 5.816259\n",
            "epoch 6 :error 7.048735\n",
            "epoch 7 :error 8.543130\n",
            "epoch 8 :error 10.354823\n",
            "epoch 9 :error 12.551005\n",
            "epoch 10 :error 15.213166\n",
            "epoch 11 :error 18.440106\n",
            "epoch 12 :error 22.351599\n",
            "epoch 13 :error 27.092838\n",
            "epoch 14 :error 32.839821\n",
            "epoch 15 :error 39.805881\n",
            "epoch 16 :error 48.249610\n",
            "epoch 17 :error 58.484451\n",
            "epoch 18 :error 70.890339\n",
            "epoch 19 :error 85.927802\n",
            "epoch 20 :error 104.155056\n",
            "epoch 21 :error 126.248730\n",
            "epoch 22 :error 153.028979\n",
            "epoch 23 :error 185.489933\n",
            "epoch 24 :error 224.836599\n",
            "epoch 25 :error 272.529595\n"
          ],
          "name": "stdout"
        }
      ]
    },
    {
      "cell_type": "markdown",
      "metadata": {
        "id": "INRgl0jjjzxt",
        "colab_type": "text"
      },
      "source": [
        "$$\n",
        "\\\\\\textbf{Proof for dependence of largest learning rate for convergence on ratio of eigen values:}\n",
        "\\\\Let\\;w_{1}\\;and\\;w_{2}\\;be\\;the\\;initial\\;weights.\n",
        "\\\\The\\;weights\\;after\\;update\\;w_{1}-\\eta.\\lambda_{1}.w_{1}\\;and\\;w_{2}-\\eta.\\lambda_{2}.w_{2}.\n",
        "\\\\\\implies For\\;convergence:\n",
        "\\\\\\frac{1}{2}\\lambda_{1}(w_{1}-\\eta.\\lambda_{1}.w_{1})^{2}+\\frac{1}{2}\\lambda_{2}(w_{2}-\\eta.\\lambda_{2}.w_{2})^{2}\\leq\\frac{1}{2}.\\lambda_{1}.w_{1}^{2}+\\frac{1}{2}.\\lambda_{2}.w_{2}^{2}\n",
        "\\\\\\implies \\eta (\\frac{1}{2}\\lambda_{1}^{3}.w_{1}^{2}+\\frac{1}{2}\\lambda_{2}^{3}.w_{2}^{2})-(\\lambda_{1}^{2}.w_{1}^{2}+\\lambda_{2}^{2}.w_{2}^{2})=0\n",
        "\\\\\\eta\\leq\\frac{\\lambda_{1}^{2}.w_{1}^{2}+\\lambda_{2}^{2}.w_{2}^{2}}{\\frac{1}{2}\\lambda_{1}^{3}.w_{1}^{2}+\\frac{1}{2}\\lambda_{2}^{3}.w_{2}^{2}}\n",
        "\\\\\\implies The\\;largest\\;value\\;of\\;learning\\;rate\\;for\\;which\\;the\\;error\\;function\\;converges\\;(\\eta)<2.\\lambda_{1}^{-1}.\\frac{w_{1}^{2}+r^{2}.w_{2}^{2}}{w_{1}^{2}+r^{3}.w_{2}^{2}}\\;where\\;r\\;is\\;the\\;ratio\\;of\\;eigen\\;values(\\lambda_{1},\\lambda_{2}).\n",
        "$$"
      ]
    },
    {
      "cell_type": "markdown",
      "metadata": {
        "id": "fJ9SNgcJcwsF",
        "colab_type": "text"
      },
      "source": [
        "$$\n",
        "\\textbf{Question 3:}\n",
        "\\\\Question\\;3(i):\n",
        "$$"
      ]
    },
    {
      "cell_type": "markdown",
      "metadata": {
        "id": "nyaGpZuodiiR",
        "colab_type": "text"
      },
      "source": [
        "$$\n",
        "Data\\;preprocessing:\n",
        "$$"
      ]
    },
    {
      "cell_type": "code",
      "metadata": {
        "id": "KDQlW1jidQHZ",
        "colab_type": "code",
        "outputId": "76ef6f0f-0ecc-41d4-836e-6d4551504492",
        "colab": {
          "base_uri": "https://localhost:8080/",
          "height": 204
        }
      },
      "source": [
        "data = pd.read_csv('train_data.txt', delimiter=',',)\n",
        "df_train=pd.DataFrame(data)\n",
        "df_train.head()"
      ],
      "execution_count": 0,
      "outputs": [
        {
          "output_type": "execute_result",
          "data": {
            "text/html": [
              "<div>\n",
              "<style scoped>\n",
              "    .dataframe tbody tr th:only-of-type {\n",
              "        vertical-align: middle;\n",
              "    }\n",
              "\n",
              "    .dataframe tbody tr th {\n",
              "        vertical-align: top;\n",
              "    }\n",
              "\n",
              "    .dataframe thead th {\n",
              "        text-align: right;\n",
              "    }\n",
              "</style>\n",
              "<table border=\"1\" class=\"dataframe\">\n",
              "  <thead>\n",
              "    <tr style=\"text-align: right;\">\n",
              "      <th></th>\n",
              "      <th>date</th>\n",
              "      <th>Temperature</th>\n",
              "      <th>Humidity</th>\n",
              "      <th>Light</th>\n",
              "      <th>CO2</th>\n",
              "      <th>HumidityRatio</th>\n",
              "      <th>Occupancy</th>\n",
              "    </tr>\n",
              "  </thead>\n",
              "  <tbody>\n",
              "    <tr>\n",
              "      <th>1</th>\n",
              "      <td>2015-02-04 17:51:00</td>\n",
              "      <td>23.18</td>\n",
              "      <td>27.2720</td>\n",
              "      <td>426.0</td>\n",
              "      <td>721.25</td>\n",
              "      <td>0.004793</td>\n",
              "      <td>1</td>\n",
              "    </tr>\n",
              "    <tr>\n",
              "      <th>2</th>\n",
              "      <td>2015-02-04 17:51:59</td>\n",
              "      <td>23.15</td>\n",
              "      <td>27.2675</td>\n",
              "      <td>429.5</td>\n",
              "      <td>714.00</td>\n",
              "      <td>0.004783</td>\n",
              "      <td>1</td>\n",
              "    </tr>\n",
              "    <tr>\n",
              "      <th>3</th>\n",
              "      <td>2015-02-04 17:53:00</td>\n",
              "      <td>23.15</td>\n",
              "      <td>27.2450</td>\n",
              "      <td>426.0</td>\n",
              "      <td>713.50</td>\n",
              "      <td>0.004779</td>\n",
              "      <td>1</td>\n",
              "    </tr>\n",
              "    <tr>\n",
              "      <th>4</th>\n",
              "      <td>2015-02-04 17:54:00</td>\n",
              "      <td>23.15</td>\n",
              "      <td>27.2000</td>\n",
              "      <td>426.0</td>\n",
              "      <td>708.25</td>\n",
              "      <td>0.004772</td>\n",
              "      <td>1</td>\n",
              "    </tr>\n",
              "    <tr>\n",
              "      <th>5</th>\n",
              "      <td>2015-02-04 17:55:00</td>\n",
              "      <td>23.10</td>\n",
              "      <td>27.2000</td>\n",
              "      <td>426.0</td>\n",
              "      <td>704.50</td>\n",
              "      <td>0.004757</td>\n",
              "      <td>1</td>\n",
              "    </tr>\n",
              "  </tbody>\n",
              "</table>\n",
              "</div>"
            ],
            "text/plain": [
              "                  date  Temperature  Humidity  ...     CO2  HumidityRatio  Occupancy\n",
              "1  2015-02-04 17:51:00        23.18   27.2720  ...  721.25       0.004793          1\n",
              "2  2015-02-04 17:51:59        23.15   27.2675  ...  714.00       0.004783          1\n",
              "3  2015-02-04 17:53:00        23.15   27.2450  ...  713.50       0.004779          1\n",
              "4  2015-02-04 17:54:00        23.15   27.2000  ...  708.25       0.004772          1\n",
              "5  2015-02-04 17:55:00        23.10   27.2000  ...  704.50       0.004757          1\n",
              "\n",
              "[5 rows x 7 columns]"
            ]
          },
          "metadata": {
            "tags": []
          },
          "execution_count": 106
        }
      ]
    },
    {
      "cell_type": "code",
      "metadata": {
        "id": "Kcnrrjvt-dtM",
        "colab_type": "code",
        "outputId": "f467d015-2e69-4b45-8345-5482d129e9a6",
        "colab": {
          "base_uri": "https://localhost:8080/",
          "height": 204
        }
      },
      "source": [
        "test_data = pd.read_csv('test_data.txt', delimiter=',',)\n",
        "df_test=pd.DataFrame(test_data)\n",
        "df_test.head()"
      ],
      "execution_count": 0,
      "outputs": [
        {
          "output_type": "execute_result",
          "data": {
            "text/html": [
              "<div>\n",
              "<style scoped>\n",
              "    .dataframe tbody tr th:only-of-type {\n",
              "        vertical-align: middle;\n",
              "    }\n",
              "\n",
              "    .dataframe tbody tr th {\n",
              "        vertical-align: top;\n",
              "    }\n",
              "\n",
              "    .dataframe thead th {\n",
              "        text-align: right;\n",
              "    }\n",
              "</style>\n",
              "<table border=\"1\" class=\"dataframe\">\n",
              "  <thead>\n",
              "    <tr style=\"text-align: right;\">\n",
              "      <th></th>\n",
              "      <th>date</th>\n",
              "      <th>Temperature</th>\n",
              "      <th>Humidity</th>\n",
              "      <th>Light</th>\n",
              "      <th>CO2</th>\n",
              "      <th>HumidityRatio</th>\n",
              "      <th>Occupancy</th>\n",
              "    </tr>\n",
              "  </thead>\n",
              "  <tbody>\n",
              "    <tr>\n",
              "      <th>1</th>\n",
              "      <td>2015-02-11 14:48:00</td>\n",
              "      <td>21.7600</td>\n",
              "      <td>31.133333</td>\n",
              "      <td>437.333333</td>\n",
              "      <td>1029.666667</td>\n",
              "      <td>0.005021</td>\n",
              "      <td>1</td>\n",
              "    </tr>\n",
              "    <tr>\n",
              "      <th>2</th>\n",
              "      <td>2015-02-11 14:49:00</td>\n",
              "      <td>21.7900</td>\n",
              "      <td>31.000000</td>\n",
              "      <td>437.333333</td>\n",
              "      <td>1000.000000</td>\n",
              "      <td>0.005009</td>\n",
              "      <td>1</td>\n",
              "    </tr>\n",
              "    <tr>\n",
              "      <th>3</th>\n",
              "      <td>2015-02-11 14:50:00</td>\n",
              "      <td>21.7675</td>\n",
              "      <td>31.122500</td>\n",
              "      <td>434.000000</td>\n",
              "      <td>1003.750000</td>\n",
              "      <td>0.005022</td>\n",
              "      <td>1</td>\n",
              "    </tr>\n",
              "    <tr>\n",
              "      <th>4</th>\n",
              "      <td>2015-02-11 14:51:00</td>\n",
              "      <td>21.7675</td>\n",
              "      <td>31.122500</td>\n",
              "      <td>439.000000</td>\n",
              "      <td>1009.500000</td>\n",
              "      <td>0.005022</td>\n",
              "      <td>1</td>\n",
              "    </tr>\n",
              "    <tr>\n",
              "      <th>5</th>\n",
              "      <td>2015-02-11 14:51:59</td>\n",
              "      <td>21.7900</td>\n",
              "      <td>31.133333</td>\n",
              "      <td>437.333333</td>\n",
              "      <td>1005.666667</td>\n",
              "      <td>0.005030</td>\n",
              "      <td>1</td>\n",
              "    </tr>\n",
              "  </tbody>\n",
              "</table>\n",
              "</div>"
            ],
            "text/plain": [
              "                  date  Temperature  ...  HumidityRatio  Occupancy\n",
              "1  2015-02-11 14:48:00      21.7600  ...       0.005021          1\n",
              "2  2015-02-11 14:49:00      21.7900  ...       0.005009          1\n",
              "3  2015-02-11 14:50:00      21.7675  ...       0.005022          1\n",
              "4  2015-02-11 14:51:00      21.7675  ...       0.005022          1\n",
              "5  2015-02-11 14:51:59      21.7900  ...       0.005030          1\n",
              "\n",
              "[5 rows x 7 columns]"
            ]
          },
          "metadata": {
            "tags": []
          },
          "execution_count": 107
        }
      ]
    },
    {
      "cell_type": "markdown",
      "metadata": {
        "id": "Y_ZW7cpzuF7P",
        "colab_type": "text"
      },
      "source": [
        "$$\n",
        "Normalizing\\;the\\;data\n",
        "$$"
      ]
    },
    {
      "cell_type": "code",
      "metadata": {
        "id": "Mwx0ROqgkBjC",
        "colab_type": "code",
        "colab": {}
      },
      "source": [
        "Ytrain_data=df_train['Occupancy'].values\n",
        "del df_train['Occupancy']\n",
        "del df_train['date']\n",
        "Xtrain_data=((df_train-df_train.mean())/np.sqrt(df_train.var())).values\n",
        "Ytrain_data=torch.tensor(Ytrain_data).float()\n",
        "Xtrain_data=torch.tensor(Xtrain_data).float()\n",
        "\n",
        "Ytest_data=df_test['Occupancy'].values\n",
        "del df_test['Occupancy']\n",
        "del df_test['date']\n",
        "Xtest_data=((df_test-df_test.mean())/np.sqrt(df_test.var())).values\n",
        "Ytest_data=torch.tensor(Ytest_data).float()\n",
        "Xtest_data=torch.tensor(Xtest_data).float()"
      ],
      "execution_count": 0,
      "outputs": []
    },
    {
      "cell_type": "markdown",
      "metadata": {
        "id": "OugQ2Pd1rD2Y",
        "colab_type": "text"
      },
      "source": [
        "$$\n",
        "Question\\;3(a):\n",
        "$$"
      ]
    },
    {
      "cell_type": "markdown",
      "metadata": {
        "id": "NkQVZGCG7PZ3",
        "colab_type": "text"
      },
      "source": [
        "$$\n",
        "Function\\;for\\;neural\\;network\\;module\n",
        "$$"
      ]
    },
    {
      "cell_type": "code",
      "metadata": {
        "id": "OcDaAxeHlcFP",
        "colab_type": "code",
        "colab": {}
      },
      "source": [
        "class Multi_layer_perceptron(nn.Module):\n",
        "  \n",
        "  \n",
        "  def __init__(self,input_size,hidden_size1,num_output):\n",
        "    super(Multi_layer_perceptron,self).__init__()\n",
        "    self.fc1=nn.Linear(input_size,hidden_size1)\n",
        "    torch.nn.init.constant_(self.fc1.weight, 1)\n",
        "    self.sigmoid1=nn.Sigmoid()\n",
        "    self.fc2=nn.Linear(hidden_size1,num_output)\n",
        "    torch.nn.init.constant_(self.fc2.weight, 1)\n",
        "    \n",
        "  def forward(self,x):\n",
        "    output=self.fc1(x)\n",
        "    output=self.sigmoid1(output)\n",
        "    output=self.fc2(output)\n",
        "    output=self.sigmoid1(output)\n",
        "    return output"
      ],
      "execution_count": 0,
      "outputs": []
    },
    {
      "cell_type": "markdown",
      "metadata": {
        "id": "pWcrELkVt01T",
        "colab_type": "text"
      },
      "source": [
        "$$\n",
        "Function\\;for\\;calculating\\;accuracy:\n",
        "$$"
      ]
    },
    {
      "cell_type": "code",
      "metadata": {
        "id": "RuKLT7IUtz_c",
        "colab_type": "code",
        "colab": {}
      },
      "source": [
        "def prediction_accuracy(targets,network,data):\n",
        "  predictions=network(data)\n",
        "  correct=0\n",
        "  for i in range(predictions.shape[0]):\n",
        "    if(predictions[i][0]>0.5):\n",
        "      predictions[i][0]=1\n",
        "    else:\n",
        "      predictions[i][0]=0\n",
        "    \n",
        "    if(predictions[i][0]==targets[i]):\n",
        "      correct+=1\n",
        "  return correct/predictions.shape[0]"
      ],
      "execution_count": 0,
      "outputs": []
    },
    {
      "cell_type": "markdown",
      "metadata": {
        "id": "-Lb7SuFT7X14",
        "colab_type": "text"
      },
      "source": [
        "$$\n",
        "Function\\;for\\;training\\;neural\\;network\n",
        "$$"
      ]
    },
    {
      "cell_type": "code",
      "metadata": {
        "id": "EQRP7xXwz3S7",
        "colab_type": "code",
        "colab": {}
      },
      "source": [
        "def train(network,X_data,Y_data,learning_rate,epochs\n",
        "          ,batch_size,loss_show,graph\n",
        "          ,graph_show,criterion\n",
        "          ,optimizer,error):\n",
        "  \n",
        "  if(optimizer=='SGD'):\n",
        "    optimizer=optim.SGD(network.parameters(),lr=learning_rate)\n",
        "  if(optimizer=='Adam'):\n",
        "    optimizer=optim.Adam(network.parameters(),lr=learning_rate)\n",
        "    \n",
        "  if(criterion=='BCE'):\n",
        "    criterion=nn.BCELoss()\n",
        "  if(criterion=='MSE'):\n",
        "    criterion=nn.MSELoss()\n",
        "  \n",
        "  train_tensor=torch.utils.data.TensorDataset(X_data,Y_data)\n",
        "  train_loader=torch.utils.data.DataLoader(dataset=train_tensor\n",
        "                                           ,batch_size=batch_size\n",
        "                                           ,shuffle=True)\n",
        "  loss_list=list()\n",
        "  error_list=list()\n",
        "  epoch_list=[(i+1) for i in range(epochs)]\n",
        "  \n",
        "  epoch=0\n",
        "  err=1\n",
        "  while(epoch<epochs and err>error):\n",
        "    loss=0\n",
        "    for(X,Y) in train_loader:\n",
        "      optimizer.zero_grad()\n",
        "      y_=network(X)\n",
        "      loss=criterion(y_,Y)\n",
        "      loss.backward(loss)\n",
        "      optimizer.step()\n",
        "    err=1-prediction_accuracy(Y_data,network,X_data)\n",
        "    if loss_show==True:\n",
        "      print(\"batch:\",epoch+1)\n",
        "      print(\"loss\",loss.item())\n",
        "      \n",
        "    if graph_show==True:\n",
        "      loss_list.append(loss.float()/batch_size)\n",
        "      error_list.append(err)\n",
        "    epoch+=1\n",
        "    \n",
        "  if(graph_show==True): \n",
        "    if(graph==True):\n",
        "      plt.plot(epoch_list,loss_list,label='loss')\n",
        "      plt.xlabel(\"Epochs\")\n",
        "      plt.ylabel(\"Loss\")\n",
        "      plt.show()\n",
        "    if(graph==False):\n",
        "      plt.plot(epoch_list,error_list,label='training_error')\n",
        "      plt.xlabel(\"Epochs\")\n",
        "      plt.ylabel(\"Error\")\n",
        "    \n",
        "  return(epoch)\n",
        " "
      ],
      "execution_count": 0,
      "outputs": []
    },
    {
      "cell_type": "markdown",
      "metadata": {
        "id": "-izE5fpk7fs5",
        "colab_type": "text"
      },
      "source": [
        "$$\n",
        "Training\\;the\\;network\\;with\\;small\\;learning\\;rate\n",
        "$$"
      ]
    },
    {
      "cell_type": "code",
      "metadata": {
        "id": "5ul5MujV1hr6",
        "colab_type": "code",
        "outputId": "e317ca3d-3668-45ec-a968-f78cad987052",
        "colab": {
          "base_uri": "https://localhost:8080/",
          "height": 339
        }
      },
      "source": [
        "network=Multi_layer_perceptron(np.shape(Xtrain_data)[1],8,1)\n",
        "e=train(network,Xtrain_data,Ytrain_data\n",
        "      ,learning_rate=0.01\n",
        "      ,epochs=100\n",
        "      ,batch_size=Xtrain_data.shape[0]\n",
        "      ,loss_show=False\n",
        "      ,graph=True\n",
        "      ,graph_show=True\n",
        "      ,criterion='BCE'\n",
        "      ,optimizer='SGD'\n",
        "     ,error=0)"
      ],
      "execution_count": 0,
      "outputs": [
        {
          "output_type": "stream",
          "text": [
            "/usr/local/lib/python3.6/dist-packages/torch/nn/modules/loss.py:498: UserWarning: Using a target size (torch.Size([8143])) that is different to the input size (torch.Size([8143, 1])) is deprecated. Please ensure they have the same size.\n",
            "  return F.binary_cross_entropy(input, target, weight=self.weight, reduction=self.reduction)\n"
          ],
          "name": "stderr"
        },
        {
          "output_type": "display_data",
          "data": {
            "image/png": "[encoded data removed]",
            "text/plain": [
              "<Figure size 432x288 with 1 Axes>"
            ]
          },
          "metadata": {
            "tags": []
          }
        }
      ]
    },
    {
      "cell_type": "markdown",
      "metadata": {
        "id": "jwtpJ_2cATAC",
        "colab_type": "text"
      },
      "source": [
        "$$\n",
        "Observation:There\\;is\\;a\\;monotonical\\;decrease\\;in\\;loss\\;with\\;small\\;learning\\;rate\n",
        "$$"
      ]
    },
    {
      "cell_type": "markdown",
      "metadata": {
        "id": "y00Wyl3w8kNx",
        "colab_type": "text"
      },
      "source": [
        "$$\n",
        "Question\\;3(b)\n",
        "$$"
      ]
    },
    {
      "cell_type": "markdown",
      "metadata": {
        "id": "yX39IueIFj1K",
        "colab_type": "text"
      },
      "source": [
        "$$\n",
        "Function\\;for\\;Calculating\\;accuracy:\n",
        "$$"
      ]
    },
    {
      "cell_type": "markdown",
      "metadata": {
        "id": "CXcBtEf1jygn",
        "colab_type": "text"
      },
      "source": [
        "$$\n",
        "Function\\;for\\;calculating\\;baseline\\;error\\;and\\;accuracy:\n",
        "$$"
      ]
    },
    {
      "cell_type": "code",
      "metadata": {
        "id": "dfn8kcjeDCJl",
        "colab_type": "code",
        "colab": {}
      },
      "source": [
        "def baseline_accuracy(targets):\n",
        "  random_targets=list()\n",
        "  for i in range(targets.shape[0]):\n",
        "    diff=list()\n",
        "    for j in range(5):\n",
        "      diff.append(np.random.randint(0,2))\n",
        "    if(diff.count(0)>diff.count(1)):\n",
        "      random_targets.append(0)\n",
        "    else:\n",
        "      random_targets.append(1)\n",
        "  \n",
        "  correct=0\n",
        "  for i in range(targets.shape[0]):\n",
        "    if(targets[i]==random_targets[i]):\n",
        "      correct+=1\n",
        "  \n",
        "  targets=torch.tensor(targets).float()\n",
        "  random_targets=torch.tensor(random_targets).float()\n",
        "  \n",
        "  criterion=nn.BCELoss()\n",
        "  loss=criterion(random_targets,targets)\n",
        "  \n",
        "  baseline_accurracy=correct/targets.shape[0]\n",
        "  baseline_error=loss.item()/targets.shape[0]\n",
        "  \n",
        "  return(baseline_accurracy,baseline_error)"
      ],
      "execution_count": 0,
      "outputs": []
    },
    {
      "cell_type": "code",
      "metadata": {
        "id": "QEbc5KkkAsvD",
        "colab_type": "code",
        "outputId": "cc73f898-ad75-477b-d622-e4ee04e8301d",
        "colab": {
          "base_uri": "https://localhost:8080/",
          "height": 73
        }
      },
      "source": [
        "(ba_test,be_test)=baseline_accuracy(Ytest_data)\n",
        "print(\"Base line accuracy of test data on a scale of 1 is : %f\"%ba_test)"
      ],
      "execution_count": 0,
      "outputs": [
        {
          "output_type": "stream",
          "text": [
            "Base line accuracy of test data on a scale of 1 is : 0.497949\n"
          ],
          "name": "stdout"
        },
        {
          "output_type": "stream",
          "text": [
            "/usr/local/lib/python3.6/dist-packages/ipykernel_launcher.py:17: UserWarning: To copy construct from a tensor, it is recommended to use sourceTensor.clone().detach() or sourceTensor.clone().detach().requires_grad_(True), rather than torch.tensor(sourceTensor).\n"
          ],
          "name": "stderr"
        }
      ]
    },
    {
      "cell_type": "markdown",
      "metadata": {
        "id": "xxw2hn04BdF3",
        "colab_type": "text"
      },
      "source": [
        "$$\n",
        "Observation:Baseline\\;accuracy\\;test\\;data\\;is\\;always\\;around\\;0.5\n",
        "$$"
      ]
    },
    {
      "cell_type": "markdown",
      "metadata": {
        "id": "ZU0x4IFGkEZJ",
        "colab_type": "text"
      },
      "source": [
        "$$\n",
        "Question\\;3(c):\n",
        "$$"
      ]
    },
    {
      "cell_type": "markdown",
      "metadata": {
        "id": "2zy5gqNTkS0d",
        "colab_type": "text"
      },
      "source": [
        "$$\n",
        "Initializing\\;a\\;network\\;with\\;H=5\\;hidden\\;units\\;and\\;training\\;with\\;minibatch\\;size\\;N=100\n",
        "$$"
      ]
    },
    {
      "cell_type": "code",
      "metadata": {
        "id": "xaWRwkv8ffZh",
        "colab_type": "code",
        "outputId": "d463db64-6666-461b-8ce8-28fca6b30624",
        "colab": {
          "base_uri": "https://localhost:8080/",
          "height": 357
        }
      },
      "source": [
        "network1=Multi_layer_perceptron(np.shape(Xtrain_data)[1],5,1)\n",
        "train(network1,Xtrain_data,Ytrain_data\n",
        "      ,learning_rate=0.01\n",
        "      ,epochs=100\n",
        "      ,batch_size=100\n",
        "      ,loss_show=False\n",
        "      ,graph=False\n",
        "      ,graph_show=True\n",
        "      ,criterion='BCE'\n",
        "      ,optimizer='SGD'\n",
        "      ,error=0)\n",
        "\n",
        "(ba,be)=baseline_accuracy(Ytest_data)\n",
        "baseline_accurracy=[ba for i in range(100)]\n",
        "epochs=[(i+1) for i in range(100)]\n",
        "\n",
        "plt.plot(epochs,baseline_accurracy,label='baseline_error')\n",
        "plt.legend()\n",
        "plt.show()\n",
        "print('Training_accuracy: %f'%(prediction_accuracy(Ytrain_data,network1,Xtrain_data)))\n",
        "print('Testing_accuracy: %f'%(prediction_accuracy(Ytest_data,network1,Xtest_data)))"
      ],
      "execution_count": 0,
      "outputs": [
        {
          "output_type": "stream",
          "text": [
            "/usr/local/lib/python3.6/dist-packages/ipykernel_launcher.py:17: UserWarning: To copy construct from a tensor, it is recommended to use sourceTensor.clone().detach() or sourceTensor.clone().detach().requires_grad_(True), rather than torch.tensor(sourceTensor).\n"
          ],
          "name": "stderr"
        },
        {
          "output_type": "display_data",
          "data": {
            "image/png": "[encoded data removed]",
            "text/plain": [
              "<Figure size 432x288 with 1 Axes>"
            ]
          },
          "metadata": {
            "tags": []
          }
        },
        {
          "output_type": "stream",
          "text": [
            "Training_accuracy: 0.935159\n",
            "Testing_accuracy: 0.917863\n"
          ],
          "name": "stdout"
        }
      ]
    },
    {
      "cell_type": "markdown",
      "metadata": {
        "id": "jF68KhGLzBZT",
        "colab_type": "text"
      },
      "source": [
        "$$\n",
        "Question\\;3(d):\n",
        "$$"
      ]
    },
    {
      "cell_type": "markdown",
      "metadata": {
        "id": "hyFGikAC1Qpg",
        "colab_type": "text"
      },
      "source": [
        "$$\n",
        "Initializing\\;and\\;training\\;a\\;network\\;with\\;H=5\\;and\\;N=Fullbatch\n",
        "$$"
      ]
    },
    {
      "cell_type": "code",
      "metadata": {
        "id": "P0LXekrBnQyG",
        "colab_type": "code",
        "outputId": "32c46dbd-6dbd-4f82-f81e-a9bf20e9cf40",
        "colab": {
          "base_uri": "https://localhost:8080/",
          "height": 357
        }
      },
      "source": [
        "network2=Multi_layer_perceptron(np.shape(Xtrain_data)[1],5,1)\n",
        "train(network2,Xtrain_data,Ytrain_data\n",
        "      ,learning_rate=0.01\n",
        "      ,epochs=100\n",
        "      ,batch_size=Xtrain_data.shape[0]\n",
        "      ,loss_show=False\n",
        "      ,graph=False\n",
        "      ,graph_show=True\n",
        "      ,criterion='BCE'\n",
        "      ,optimizer='SGD'\n",
        "      ,error=0)\n",
        "\n",
        "(ba,be)=baseline_accuracy(Ytest_data)\n",
        "baseline_accurracy=[ba for i in range(100)]\n",
        "epochs=[(i+1) for i in range(100)]\n",
        "\n",
        "plt.plot(epochs,baseline_accurracy,label='baseline_error')\n",
        "plt.legend()\n",
        "plt.show()\n",
        "print('Training_accuracy: %f'%(prediction_accuracy(Ytrain_data,network2,Xtrain_data)))\n",
        "print('Testing_accuracy: %f'%(prediction_accuracy(Ytest_data,network2,Xtest_data)))"
      ],
      "execution_count": 0,
      "outputs": [
        {
          "output_type": "stream",
          "text": [
            "/usr/local/lib/python3.6/dist-packages/ipykernel_launcher.py:17: UserWarning: To copy construct from a tensor, it is recommended to use sourceTensor.clone().detach() or sourceTensor.clone().detach().requires_grad_(True), rather than torch.tensor(sourceTensor).\n"
          ],
          "name": "stderr"
        },
        {
          "output_type": "display_data",
          "data": {
            "image/png": "[encoded data removed]",
            "text/plain": [
              "<Figure size 432x288 with 1 Axes>"
            ]
          },
          "metadata": {
            "tags": []
          }
        },
        {
          "output_type": "stream",
          "text": [
            "Training_accuracy: 0.567236\n",
            "Testing_accuracy: 0.419504\n"
          ],
          "name": "stdout"
        }
      ]
    },
    {
      "cell_type": "markdown",
      "metadata": {
        "id": "q3cL-ugB51Rz",
        "colab_type": "text"
      },
      "source": [
        "$$\n",
        "Obeservations:Minibatch\\;is\\;able\\;to\\;acheive\\;good\\;accuracy\\;in\\;small\\;no\\;of\\;epochs\\;compare\\;to\\;batch\\;training\n",
        "$$"
      ]
    },
    {
      "cell_type": "markdown",
      "metadata": {
        "id": "iEOek3pD53GA",
        "colab_type": "text"
      },
      "source": [
        "$$\n",
        "Question\\;3(e):\n",
        "$$"
      ]
    },
    {
      "cell_type": "markdown",
      "metadata": {
        "id": "Renl1eje9q3_",
        "colab_type": "text"
      },
      "source": [
        "$$\n",
        "Training\\;the\\;networks\\;with\\;varying\\;hidden\\;layer\\;size(H=1,2,5,10,20)\n",
        "$$"
      ]
    },
    {
      "cell_type": "code",
      "metadata": {
        "id": "QAC1CMLr96mX",
        "colab_type": "code",
        "outputId": "0020b96a-4999-483c-859d-e0cdab053724",
        "colab": {
          "base_uri": "https://localhost:8080/",
          "height": 555
        }
      },
      "source": [
        "H=[1,2,5,10,20]\n",
        "performance_test=list()\n",
        "epochs=list()\n",
        "for i in range(len(H)):\n",
        "  network_1=Multi_layer_perceptron(np.shape(Xtrain_data)[1],H[i],1)\n",
        "  e=train(network_1,Xtrain_data,Ytrain_data\n",
        "        ,learning_rate=0.1\n",
        "        ,epochs=100\n",
        "        ,batch_size=100\n",
        "        ,loss_show=False\n",
        "        ,graph=False\n",
        "        ,graph_show=False\n",
        "        ,criterion='BCE'\n",
        "        ,optimizer='SGD'\n",
        "        ,error=0.1)\n",
        "  \n",
        "  epochs.append(e)\n",
        "  performance_test.append(prediction_accuracy(Ytest_data\n",
        "                                              ,network_1\n",
        "                                              ,Xtest_data))\n",
        "  print(\"%d th network is trained in %d epochs:\"%(i+1,e))\n",
        "  \n",
        "for i in range(len(H)):\n",
        "  print(\"hidden layer size: %d , performance %f\"%(H[i],performance_test[i]))\n",
        "plt.plot(H,performance_test)\n",
        "plt.xlabel(\"Hidden layers\")\n",
        "plt.ylabel(\"performance on a scale of 1\")\n",
        "plt.show()\n"
      ],
      "execution_count": 0,
      "outputs": [
        {
          "output_type": "stream",
          "text": [
            "/usr/local/lib/python3.6/dist-packages/torch/nn/modules/loss.py:498: UserWarning: Using a target size (torch.Size([100])) that is different to the input size (torch.Size([100, 1])) is deprecated. Please ensure they have the same size.\n",
            "  return F.binary_cross_entropy(input, target, weight=self.weight, reduction=self.reduction)\n",
            "/usr/local/lib/python3.6/dist-packages/torch/nn/modules/loss.py:498: UserWarning: Using a target size (torch.Size([43])) that is different to the input size (torch.Size([43, 1])) is deprecated. Please ensure they have the same size.\n",
            "  return F.binary_cross_entropy(input, target, weight=self.weight, reduction=self.reduction)\n"
          ],
          "name": "stderr"
        },
        {
          "output_type": "stream",
          "text": [
            "1 th network is trained in 7 epochs:\n",
            "2 th network is trained in 1 epochs:\n",
            "3 th network is trained in 2 epochs:\n",
            "4 th network is trained in 1 epochs:\n",
            "5 th network is trained in 1 epochs:\n",
            "hidden layer size: 1 , performance 0.873462\n",
            "hidden layer size: 2 , performance 0.914889\n",
            "hidden layer size: 5 , performance 0.912428\n",
            "hidden layer size: 10 , performance 0.887818\n",
            "hidden layer size: 20 , performance 0.904020\n"
          ],
          "name": "stdout"
        },
        {
          "output_type": "display_data",
          "data": {
            "image/png": "[encoded data removed]",
            "text/plain": [
              "<Figure size 432x288 with 1 Axes>"
            ]
          },
          "metadata": {
            "tags": []
          }
        }
      ]
    },
    {
      "cell_type": "markdown",
      "metadata": {
        "id": "cQq_nPj5uXXS",
        "colab_type": "text"
      },
      "source": [
        "$$\n",
        "\\\\The\\;stopping\\;condition\\;for\\;training\\;the\\;network\\;is\\;accuracy>90\\%\\;on\\;train\\;accuarcy\n",
        "\\\\Observations:Network\\;with\\;hidden\\;layer\\;sizes=2,5\\;able\\;generalize\\;the\\;data\\;well\\;compare\\;to\\;other\\;hidden\\;layer\\;sizes\n",
        "$$"
      ]
    },
    {
      "cell_type": "markdown",
      "metadata": {
        "id": "M5yvyoKd5wAP",
        "colab_type": "text"
      },
      "source": [
        "$$\n",
        "Question\\;3(f):\n",
        "$$"
      ]
    },
    {
      "cell_type": "markdown",
      "metadata": {
        "id": "-WvzXRyk5-C3",
        "colab_type": "text"
      },
      "source": [
        "$$\n",
        "All\\;the\\;above\\;graphs\\;with\\;RMSE\\;loss\n",
        "$$"
      ]
    },
    {
      "cell_type": "code",
      "metadata": {
        "id": "cMkmcGpmunDn",
        "colab_type": "code",
        "outputId": "e9cec8a7-443c-44eb-9c08-1c68e4cd6407",
        "colab": {
          "base_uri": "https://localhost:8080/",
          "height": 357
        }
      },
      "source": [
        "network1=Multi_layer_perceptron(np.shape(Xtrain_data)[1],5,1)\n",
        "train(network1,Xtrain_data,Ytrain_data\n",
        "      ,learning_rate=0.01\n",
        "      ,epochs=100\n",
        "      ,batch_size=100\n",
        "      ,loss_show=False\n",
        "      ,graph=False\n",
        "      ,graph_show=True\n",
        "      ,criterion='MSE'\n",
        "      ,optimizer='SGD'\n",
        "      ,error=0)\n",
        "\n",
        "(ba,be)=baseline_accuracy(Ytest_data)\n",
        "baseline_accurracy=[ba for i in range(100)]\n",
        "epochs=[(i+1) for i in range(100)]\n",
        "\n",
        "plt.plot(epochs,baseline_accurracy,label='baseline_error')\n",
        "plt.legend()\n",
        "plt.show()\n",
        "print('Training_accuracy: %f'%(prediction_accuracy(Ytrain_data,network1,Xtrain_data)))\n",
        "print('Testing_accuracy: %f'%(prediction_accuracy(Ytest_data,network1,Xtest_data)))"
      ],
      "execution_count": 0,
      "outputs": [
        {
          "output_type": "stream",
          "text": [
            "/usr/local/lib/python3.6/dist-packages/ipykernel_launcher.py:17: UserWarning: To copy construct from a tensor, it is recommended to use sourceTensor.clone().detach() or sourceTensor.clone().detach().requires_grad_(True), rather than torch.tensor(sourceTensor).\n"
          ],
          "name": "stderr"
        },
        {
          "output_type": "display_data",
          "data": {
            "image/png": "[encoded data removed]",
            "text/plain": [
              "<Figure size 432x288 with 1 Axes>"
            ]
          },
          "metadata": {
            "tags": []
          }
        },
        {
          "output_type": "stream",
          "text": [
            "Training_accuracy: 0.787670\n",
            "Testing_accuracy: 0.789889\n"
          ],
          "name": "stdout"
        }
      ]
    },
    {
      "cell_type": "markdown",
      "metadata": {
        "id": "EakyCriX6j2s",
        "colab_type": "text"
      },
      "source": [
        "$$\n",
        "Training\\;network\\;with\\;H=5\\;and\\;RMSE\\;loss\n",
        "$$"
      ]
    },
    {
      "cell_type": "code",
      "metadata": {
        "id": "I26EWttg6PoB",
        "colab_type": "code",
        "outputId": "24165283-0d78-4665-bef6-71a3b490e84c",
        "colab": {
          "base_uri": "https://localhost:8080/",
          "height": 357
        }
      },
      "source": [
        "network2=Multi_layer_perceptron(np.shape(Xtrain_data)[1],5,1)\n",
        "train(network2,Xtrain_data,Ytrain_data\n",
        "      ,learning_rate=0.5\n",
        "      ,epochs=100\n",
        "      ,batch_size=Xtrain_data.shape[0]\n",
        "      ,loss_show=False\n",
        "      ,graph=False\n",
        "      ,graph_show=True\n",
        "      ,criterion='MSE'\n",
        "      ,optimizer='SGD'\n",
        "      ,error=0)\n",
        "\n",
        "(ba,be)=baseline_accuracy(Ytest_data)\n",
        "baseline_accurracy=[ba for i in range(100)]\n",
        "epochs=[(i+1) for i in range(100)]\n",
        "\n",
        "plt.plot(epochs,baseline_accurracy,label='baseline_error')\n",
        "plt.legend()\n",
        "plt.show()\n",
        "print('training_accuracy:',end=\"\")\n",
        "print(prediction_accuracy(Ytrain_data,network2,Xtrain_data))\n",
        "print('testing_accuracy:',end=\"\")\n",
        "print(prediction_accuracy(Ytest_data,network2,Xtest_data))"
      ],
      "execution_count": 0,
      "outputs": [
        {
          "output_type": "stream",
          "text": [
            "/usr/local/lib/python3.6/dist-packages/ipykernel_launcher.py:17: UserWarning: To copy construct from a tensor, it is recommended to use sourceTensor.clone().detach() or sourceTensor.clone().detach().requires_grad_(True), rather than torch.tensor(sourceTensor).\n"
          ],
          "name": "stderr"
        },
        {
          "output_type": "display_data",
          "data": {
            "image/png": "[encoded data removed]",
            "text/plain": [
              "<Figure size 432x288 with 1 Axes>"
            ]
          },
          "metadata": {
            "tags": []
          }
        },
        {
          "output_type": "stream",
          "text": [
            "training_accuracy:0.7876703917475132\n",
            "testing_accuracy:0.7898892534864643\n"
          ],
          "name": "stdout"
        }
      ]
    },
    {
      "cell_type": "code",
      "metadata": {
        "id": "8BEGSz8W6v9K",
        "colab_type": "code",
        "outputId": "5fb93999-9950-4a78-e2c4-f3d36ed75ec1",
        "colab": {
          "base_uri": "https://localhost:8080/",
          "height": 463
        }
      },
      "source": [
        "H=[1,2,5,10,20]\n",
        "performance_test=list()\n",
        "epochs=list()\n",
        "for i in range(len(H)):\n",
        "  network_1=Multi_layer_perceptron(np.shape(Xtrain_data)[1],H[i],1)\n",
        "  e=train(network_1,Xtrain_data,Ytrain_data\n",
        "        ,learning_rate=0.1\n",
        "        ,epochs=100\n",
        "        ,batch_size=100\n",
        "        ,loss_show=False\n",
        "        ,graph=False\n",
        "        ,graph_show=False\n",
        "        ,criterion='MSE'\n",
        "        ,optimizer='SGD'\n",
        "        ,error=0.1)\n",
        "  \n",
        "  epochs.append(e)\n",
        "  performance_test.append(prediction_accuracy(Ytest_data\n",
        "                                              ,network_1\n",
        "                                              ,Xtest_data))\n",
        "  print(\"%d th network is trained in %d epochs:\"%(i+1,e))\n",
        "  \n",
        "for i in range(len(H)):\n",
        "  print(\"hidden layer size: %d , performance %f\"%(H[i],performance_test[i]))\n",
        "plt.plot(H,performance_test)\n",
        "plt.xlabel(\"Hidden layers\")\n",
        "plt.ylabel(\"performance on a scale of 1\")\n",
        "plt.show()\n"
      ],
      "execution_count": 0,
      "outputs": [
        {
          "output_type": "stream",
          "text": [
            "1 th network is trained in 100 epochs:\n",
            "2 th network is trained in 3 epochs:\n",
            "3 th network is trained in 5 epochs:\n",
            "4 th network is trained in 10 epochs:\n",
            "5 th network is trained in 23 epochs:\n",
            "hidden layer size: 1 , performance 0.789889\n",
            "hidden layer size: 2 , performance 0.908224\n",
            "hidden layer size: 5 , performance 0.911095\n",
            "hidden layer size: 10 , performance 0.900943\n",
            "hidden layer size: 20 , performance 0.913966\n"
          ],
          "name": "stdout"
        },
        {
          "output_type": "display_data",
          "data": {
            "image/png": "[encoded data removed]",
            "text/plain": [
              "<Figure size 432x288 with 1 Axes>"
            ]
          },
          "metadata": {
            "tags": []
          }
        }
      ]
    },
    {
      "cell_type": "markdown",
      "metadata": {
        "id": "No0uYAx29Q1v",
        "colab_type": "text"
      },
      "source": [
        "$$\n",
        "\\\\Observations:\\implies The\\;maximum\\;accuracy\\;achieved\\;using\\;RMSE\\;loss\\;is\\;less\\;than\\;that\\;of\\;binary\\;cross\\;entropy.\n",
        "\\\\\\implies Minibatch\\;is\\;acheiving\\;better\\;accuracy\\;than\\;Full\\;batch\\;in\\;less\\;number\\;of\\;epochs.\n",
        "\\\\\\implies If\\;the\\;network\\;with\\;RMSELoss\\;is\\;trained\\;for\\;more\\;epochs\\;the\\;model\\;is\\;overfitting\\;resulting\\;in\\;less\\;test\\;accuracy.\n",
        "\\\\The\\;stopping\\;condition\\;for\\;training\\;the\\;network\\;is\\;accuracy>90\\%\\;on\\;train\\;accuarcy\n",
        "\\\\\\implies In\\;most\\;of\\;the\\;cases\\;the\\;model\\;is\\;acheiving\\;better\\;accuracy\\;with\\;hidden\\;layer\\;sizes=2,5\\;compared\\;to\\;size=\\;1,10,20,which\\;is\\;same\\;as\\;model\\;with\\;BCE\\;loss\n",
        "$$"
      ]
    },
    {
      "cell_type": "markdown",
      "metadata": {
        "id": "7OGFswdw_iKR",
        "colab_type": "text"
      },
      "source": [
        "$$\n",
        "Question\\;3(g):\n",
        "$$"
      ]
    },
    {
      "cell_type": "markdown",
      "metadata": {
        "id": "kfC5bS5f_1iM",
        "colab_type": "text"
      },
      "source": [
        "$$\n",
        "Function\\;for\\;MLP\\;with\\;two\\;hidden\\;layers\n",
        "$$"
      ]
    },
    {
      "cell_type": "code",
      "metadata": {
        "id": "lJv_GXAL7vfa",
        "colab_type": "code",
        "colab": {}
      },
      "source": [
        "class Multi_layer_perceptron1(nn.Module):\n",
        "  \n",
        "  \n",
        "  def __init__(self,input_size,hidden_size1,hidden_size2,num_output):\n",
        "    super(Multi_layer_perceptron1,self).__init__()\n",
        "    self.fc1=nn.Linear(input_size,hidden_size1)\n",
        "    torch.nn.init.constant_(self.fc1.weight, 1)\n",
        "    self.sigmoid1=nn.Sigmoid()\n",
        "    self.fc2=nn.Linear(hidden_size1,hidden_size2)\n",
        "    torch.nn.init.constant_(self.fc2.weight, 1)\n",
        "    self.fc3=nn.Linear(hidden_size2,num_output)\n",
        "    torch.nn.init.constant_(self.fc3.weight, 1)\n",
        "    \n",
        "  def forward(self,x):\n",
        "    output=self.fc1(x)\n",
        "    output=self.sigmoid1(output)\n",
        "    output=self.fc2(output)\n",
        "    output=self.sigmoid1(output)\n",
        "    output=self.fc3(output)\n",
        "    output=self.sigmoid1(output)\n",
        "    return output"
      ],
      "execution_count": 0,
      "outputs": []
    },
    {
      "cell_type": "markdown",
      "metadata": {
        "id": "yp6KZAi5A-XF",
        "colab_type": "text"
      },
      "source": [
        "$$\n",
        "Training\\;on\\;network(5,2,2,1)\\;on\\;the\\;data\n",
        "$$"
      ]
    },
    {
      "cell_type": "code",
      "metadata": {
        "id": "tmw4sHM9BK9F",
        "colab_type": "code",
        "outputId": "6538dd2c-998f-4283-aff0-5596cc1ad302",
        "colab": {
          "base_uri": "https://localhost:8080/",
          "height": 53
        }
      },
      "source": [
        "double_network=Multi_layer_perceptron1(np.shape(Xtrain_data)[1],2,2,1)\n",
        "e=train(double_network,Xtrain_data,Ytrain_data\n",
        "        ,learning_rate=0.5\n",
        "        ,epochs=100\n",
        "        ,batch_size=100\n",
        "        ,loss_show=False\n",
        "        ,graph=False\n",
        "        ,graph_show=False\n",
        "        ,criterion='BCE'\n",
        "        ,optimizer='SGD'\n",
        "        ,error=0.1)\n",
        "print(\"Network training completed in %d epochs\"%(e))\n",
        "print(\"Accuracy on Test data %f\"%(prediction_accuracy(Ytest_data\n",
        "                                                      ,double_network\n",
        "                                                      ,Xtest_data)))"
      ],
      "execution_count": 0,
      "outputs": [
        {
          "output_type": "stream",
          "text": [
            "Network training completed in 5 epochs\n",
            "Accuracy on Test data 0.920529\n"
          ],
          "name": "stdout"
        }
      ]
    },
    {
      "cell_type": "code",
      "metadata": {
        "id": "HVaMKE62CX7y",
        "colab_type": "code",
        "outputId": "c0a285c3-d971-4dad-c63e-a7a9ecc0f819",
        "colab": {
          "base_uri": "https://localhost:8080/",
          "height": 53
        }
      },
      "source": [
        "double_network1=Multi_layer_perceptron1(np.shape(Xtrain_data)[1],4,2,1)\n",
        "e=train(double_network1,Xtrain_data,Ytrain_data\n",
        "        ,learning_rate=0.5\n",
        "        ,epochs=100\n",
        "        ,batch_size=100\n",
        "        ,loss_show=False\n",
        "        ,graph=False\n",
        "        ,graph_show=False\n",
        "        ,criterion='BCE'\n",
        "        ,optimizer='SGD'\n",
        "        ,error=0.1)\n",
        "\n",
        "print(\"Network training completed in %d epochs\"%(e))\n",
        "print(\"Accuracy on Test data %f\"%(prediction_accuracy(Ytest_data\n",
        "                                                      ,double_network1\n",
        "                                                      ,Xtest_data)))"
      ],
      "execution_count": 0,
      "outputs": [
        {
          "output_type": "stream",
          "text": [
            "Network training completed in 4 epochs\n",
            "Accuracy on Test data 0.883203\n"
          ],
          "name": "stdout"
        }
      ]
    },
    {
      "cell_type": "markdown",
      "metadata": {
        "id": "2OkQNfyLK80H",
        "colab_type": "text"
      },
      "source": [
        "$$\n",
        "\\\\I\\;tried\\;architectures(5,2,2,1)\\;and(5,4,2,1).\n",
        "\\\\Observations:Architecture(5,2,2,1)\\;outperformed\\;all\\;the\\;single\\;layer\\;networks.\n",
        "$$"
      ]
    },
    {
      "cell_type": "code",
      "metadata": {
        "id": "d-58nYDkQt01",
        "colab_type": "code",
        "colab": {}
      },
      "source": [
        ""
      ],
      "execution_count": 0,
      "outputs": []
    }
  ]
}